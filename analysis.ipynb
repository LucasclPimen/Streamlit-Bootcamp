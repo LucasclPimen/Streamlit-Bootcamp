{
 "cells": [
  {
   "cell_type": "markdown",
   "metadata": {},
   "source": [
    "## Imports"
   ]
  },
  {
   "cell_type": "code",
   "execution_count": 1,
   "metadata": {},
   "outputs": [],
   "source": [
    "import pandas as pd \n",
    "import numpy as np\n",
    "import matplotlib.pyplot as plt\n",
    "import seaborn as sns\n",
    "import plotly.express as px\n",
    "import plotly.graph_objects as go\n"
   ]
  },
  {
   "cell_type": "markdown",
   "metadata": {},
   "source": [
    "## Leitura da base de dados"
   ]
  },
  {
   "cell_type": "code",
   "execution_count": 2,
   "metadata": {},
   "outputs": [],
   "source": [
    "df = pd.read_excel('Adidas.xlsx')"
   ]
  },
  {
   "cell_type": "code",
   "execution_count": 3,
   "metadata": {},
   "outputs": [
    {
     "name": "stdout",
     "output_type": "stream",
     "text": [
      "<class 'pandas.core.frame.DataFrame'>\n",
      "RangeIndex: 9648 entries, 0 to 9647\n",
      "Data columns (total 13 columns):\n",
      " #   Column           Non-Null Count  Dtype         \n",
      "---  ------           --------------  -----         \n",
      " 0   Retailer         9648 non-null   object        \n",
      " 1   RetailerID       9648 non-null   int64         \n",
      " 2   InvoiceDate      9648 non-null   datetime64[ns]\n",
      " 3   Region           9648 non-null   object        \n",
      " 4   State            9648 non-null   object        \n",
      " 5   City             9648 non-null   object        \n",
      " 6   Product          9648 non-null   object        \n",
      " 7   PriceperUnit     9648 non-null   float64       \n",
      " 8   UnitsSold        9648 non-null   int64         \n",
      " 9   TotalSales       9648 non-null   float64       \n",
      " 10  OperatingProfit  9648 non-null   float64       \n",
      " 11  OperatingMargin  9648 non-null   float64       \n",
      " 12  SalesMethod      9648 non-null   object        \n",
      "dtypes: datetime64[ns](1), float64(4), int64(2), object(6)\n",
      "memory usage: 980.0+ KB\n"
     ]
    }
   ],
   "source": [
    "df.info()"
   ]
  },
  {
   "cell_type": "markdown",
   "metadata": {},
   "source": [
    "Não há dados não preenchidos. Sugestão de análise: retirar a coluna \"RetailerID\""
   ]
  },
  {
   "cell_type": "code",
   "execution_count": 4,
   "metadata": {},
   "outputs": [],
   "source": [
    "df.drop(columns = ['RetailerID'], inplace = True)"
   ]
  },
  {
   "cell_type": "code",
   "execution_count": 5,
   "metadata": {},
   "outputs": [
    {
     "data": {
      "text/html": [
       "<div>\n",
       "<style scoped>\n",
       "    .dataframe tbody tr th:only-of-type {\n",
       "        vertical-align: middle;\n",
       "    }\n",
       "\n",
       "    .dataframe tbody tr th {\n",
       "        vertical-align: top;\n",
       "    }\n",
       "\n",
       "    .dataframe thead th {\n",
       "        text-align: right;\n",
       "    }\n",
       "</style>\n",
       "<table border=\"1\" class=\"dataframe\">\n",
       "  <thead>\n",
       "    <tr style=\"text-align: right;\">\n",
       "      <th></th>\n",
       "      <th>Retailer</th>\n",
       "      <th>InvoiceDate</th>\n",
       "      <th>Region</th>\n",
       "      <th>State</th>\n",
       "      <th>City</th>\n",
       "      <th>Product</th>\n",
       "      <th>PriceperUnit</th>\n",
       "      <th>UnitsSold</th>\n",
       "      <th>TotalSales</th>\n",
       "      <th>OperatingProfit</th>\n",
       "      <th>OperatingMargin</th>\n",
       "      <th>SalesMethod</th>\n",
       "    </tr>\n",
       "  </thead>\n",
       "  <tbody>\n",
       "    <tr>\n",
       "      <th>0</th>\n",
       "      <td>Foot Locker</td>\n",
       "      <td>2020-02-03</td>\n",
       "      <td>Northeast</td>\n",
       "      <td>New York</td>\n",
       "      <td>New York</td>\n",
       "      <td>Women's Athletic Footwear</td>\n",
       "      <td>45.0</td>\n",
       "      <td>825</td>\n",
       "      <td>371250.0</td>\n",
       "      <td>129937.5</td>\n",
       "      <td>0.35</td>\n",
       "      <td>Outlet</td>\n",
       "    </tr>\n",
       "    <tr>\n",
       "      <th>1</th>\n",
       "      <td>Foot Locker</td>\n",
       "      <td>2020-02-04</td>\n",
       "      <td>Northeast</td>\n",
       "      <td>New York</td>\n",
       "      <td>New York</td>\n",
       "      <td>Men's Apparel</td>\n",
       "      <td>60.0</td>\n",
       "      <td>825</td>\n",
       "      <td>495000.0</td>\n",
       "      <td>148500.0</td>\n",
       "      <td>0.30</td>\n",
       "      <td>Outlet</td>\n",
       "    </tr>\n",
       "    <tr>\n",
       "      <th>2</th>\n",
       "      <td>Foot Locker</td>\n",
       "      <td>2020-02-05</td>\n",
       "      <td>Northeast</td>\n",
       "      <td>New York</td>\n",
       "      <td>New York</td>\n",
       "      <td>Women's Apparel</td>\n",
       "      <td>50.0</td>\n",
       "      <td>950</td>\n",
       "      <td>475000.0</td>\n",
       "      <td>118750.0</td>\n",
       "      <td>0.25</td>\n",
       "      <td>Outlet</td>\n",
       "    </tr>\n",
       "    <tr>\n",
       "      <th>3</th>\n",
       "      <td>Foot Locker</td>\n",
       "      <td>2020-02-06</td>\n",
       "      <td>Northeast</td>\n",
       "      <td>New York</td>\n",
       "      <td>New York</td>\n",
       "      <td>Men's Street Footwear</td>\n",
       "      <td>60.0</td>\n",
       "      <td>1220</td>\n",
       "      <td>732000.0</td>\n",
       "      <td>366000.0</td>\n",
       "      <td>0.50</td>\n",
       "      <td>Outlet</td>\n",
       "    </tr>\n",
       "    <tr>\n",
       "      <th>4</th>\n",
       "      <td>Foot Locker</td>\n",
       "      <td>2020-02-07</td>\n",
       "      <td>Northeast</td>\n",
       "      <td>New York</td>\n",
       "      <td>New York</td>\n",
       "      <td>Men's Athletic Footwear</td>\n",
       "      <td>55.0</td>\n",
       "      <td>925</td>\n",
       "      <td>508750.0</td>\n",
       "      <td>152625.0</td>\n",
       "      <td>0.30</td>\n",
       "      <td>Outlet</td>\n",
       "    </tr>\n",
       "  </tbody>\n",
       "</table>\n",
       "</div>"
      ],
      "text/plain": [
       "      Retailer InvoiceDate     Region     State      City  \\\n",
       "0  Foot Locker  2020-02-03  Northeast  New York  New York   \n",
       "1  Foot Locker  2020-02-04  Northeast  New York  New York   \n",
       "2  Foot Locker  2020-02-05  Northeast  New York  New York   \n",
       "3  Foot Locker  2020-02-06  Northeast  New York  New York   \n",
       "4  Foot Locker  2020-02-07  Northeast  New York  New York   \n",
       "\n",
       "                     Product  PriceperUnit  UnitsSold  TotalSales  \\\n",
       "0  Women's Athletic Footwear          45.0        825    371250.0   \n",
       "1              Men's Apparel          60.0        825    495000.0   \n",
       "2            Women's Apparel          50.0        950    475000.0   \n",
       "3      Men's Street Footwear          60.0       1220    732000.0   \n",
       "4    Men's Athletic Footwear          55.0        925    508750.0   \n",
       "\n",
       "   OperatingProfit  OperatingMargin SalesMethod  \n",
       "0         129937.5             0.35      Outlet  \n",
       "1         148500.0             0.30      Outlet  \n",
       "2         118750.0             0.25      Outlet  \n",
       "3         366000.0             0.50      Outlet  \n",
       "4         152625.0             0.30      Outlet  "
      ]
     },
     "execution_count": 5,
     "metadata": {},
     "output_type": "execute_result"
    }
   ],
   "source": [
    "df.head()"
   ]
  },
  {
   "cell_type": "code",
   "execution_count": 6,
   "metadata": {},
   "outputs": [
    {
     "data": {
      "text/html": [
       "<div>\n",
       "<style scoped>\n",
       "    .dataframe tbody tr th:only-of-type {\n",
       "        vertical-align: middle;\n",
       "    }\n",
       "\n",
       "    .dataframe tbody tr th {\n",
       "        vertical-align: top;\n",
       "    }\n",
       "\n",
       "    .dataframe thead th {\n",
       "        text-align: right;\n",
       "    }\n",
       "</style>\n",
       "<table border=\"1\" class=\"dataframe\">\n",
       "  <thead>\n",
       "    <tr style=\"text-align: right;\">\n",
       "      <th></th>\n",
       "      <th>PriceperUnit</th>\n",
       "      <th>UnitsSold</th>\n",
       "      <th>TotalSales</th>\n",
       "      <th>OperatingProfit</th>\n",
       "      <th>OperatingMargin</th>\n",
       "    </tr>\n",
       "  </thead>\n",
       "  <tbody>\n",
       "    <tr>\n",
       "      <th>count</th>\n",
       "      <td>9648.000000</td>\n",
       "      <td>9648.000000</td>\n",
       "      <td>9648.000000</td>\n",
       "      <td>9648.000000</td>\n",
       "      <td>9648.000000</td>\n",
       "    </tr>\n",
       "    <tr>\n",
       "      <th>mean</th>\n",
       "      <td>45.216625</td>\n",
       "      <td>256.930037</td>\n",
       "      <td>93250.893968</td>\n",
       "      <td>34408.018392</td>\n",
       "      <td>0.422991</td>\n",
       "    </tr>\n",
       "    <tr>\n",
       "      <th>std</th>\n",
       "      <td>14.705397</td>\n",
       "      <td>214.252030</td>\n",
       "      <td>141852.775230</td>\n",
       "      <td>54135.070618</td>\n",
       "      <td>0.097197</td>\n",
       "    </tr>\n",
       "    <tr>\n",
       "      <th>min</th>\n",
       "      <td>7.000000</td>\n",
       "      <td>0.000000</td>\n",
       "      <td>0.000000</td>\n",
       "      <td>0.000000</td>\n",
       "      <td>0.100000</td>\n",
       "    </tr>\n",
       "    <tr>\n",
       "      <th>25%</th>\n",
       "      <td>35.000000</td>\n",
       "      <td>106.000000</td>\n",
       "      <td>4254.500000</td>\n",
       "      <td>1921.752500</td>\n",
       "      <td>0.350000</td>\n",
       "    </tr>\n",
       "    <tr>\n",
       "      <th>50%</th>\n",
       "      <td>45.000000</td>\n",
       "      <td>176.000000</td>\n",
       "      <td>9576.000000</td>\n",
       "      <td>4371.420000</td>\n",
       "      <td>0.410000</td>\n",
       "    </tr>\n",
       "    <tr>\n",
       "      <th>75%</th>\n",
       "      <td>55.000000</td>\n",
       "      <td>350.000000</td>\n",
       "      <td>150000.000000</td>\n",
       "      <td>52062.500000</td>\n",
       "      <td>0.490000</td>\n",
       "    </tr>\n",
       "    <tr>\n",
       "      <th>max</th>\n",
       "      <td>110.000000</td>\n",
       "      <td>1275.000000</td>\n",
       "      <td>825000.000000</td>\n",
       "      <td>390000.000000</td>\n",
       "      <td>0.800000</td>\n",
       "    </tr>\n",
       "  </tbody>\n",
       "</table>\n",
       "</div>"
      ],
      "text/plain": [
       "       PriceperUnit    UnitsSold     TotalSales  OperatingProfit  \\\n",
       "count   9648.000000  9648.000000    9648.000000      9648.000000   \n",
       "mean      45.216625   256.930037   93250.893968     34408.018392   \n",
       "std       14.705397   214.252030  141852.775230     54135.070618   \n",
       "min        7.000000     0.000000       0.000000         0.000000   \n",
       "25%       35.000000   106.000000    4254.500000      1921.752500   \n",
       "50%       45.000000   176.000000    9576.000000      4371.420000   \n",
       "75%       55.000000   350.000000  150000.000000     52062.500000   \n",
       "max      110.000000  1275.000000  825000.000000    390000.000000   \n",
       "\n",
       "       OperatingMargin  \n",
       "count      9648.000000  \n",
       "mean          0.422991  \n",
       "std           0.097197  \n",
       "min           0.100000  \n",
       "25%           0.350000  \n",
       "50%           0.410000  \n",
       "75%           0.490000  \n",
       "max           0.800000  "
      ]
     },
     "execution_count": 6,
     "metadata": {},
     "output_type": "execute_result"
    }
   ],
   "source": [
    "df.describe()"
   ]
  },
  {
   "cell_type": "code",
   "execution_count": 7,
   "metadata": {},
   "outputs": [
    {
     "data": {
      "text/plain": [
       "Index(['Retailer', 'InvoiceDate', 'Region', 'State', 'City', 'Product',\n",
       "       'PriceperUnit', 'UnitsSold', 'TotalSales', 'OperatingProfit',\n",
       "       'OperatingMargin', 'SalesMethod'],\n",
       "      dtype='object')"
      ]
     },
     "execution_count": 7,
     "metadata": {},
     "output_type": "execute_result"
    }
   ],
   "source": [
    "df.columns"
   ]
  },
  {
   "cell_type": "code",
   "execution_count": 8,
   "metadata": {},
   "outputs": [],
   "source": [
    "# Renomeando algumas colunas:\n",
    "\n",
    "df.rename(columns = {'InvoiceDate': 'Invoice Date', 'PriceperUnit': 'Unit Price', 'UnitsSold': 'Units Sold', 'TotalSales': 'Total Sales',\n",
    "                     'OperatingProfit':'Operating Profit','OperatingMargin':'Operating Margin', 'SalesMethod': 'Sales Method'},\n",
    "                     inplace= True)"
   ]
  },
  {
   "cell_type": "markdown",
   "metadata": {},
   "source": [
    "### Matriz de correlação"
   ]
  },
  {
   "cell_type": "code",
   "execution_count": 9,
   "metadata": {},
   "outputs": [
    {
     "name": "stderr",
     "output_type": "stream",
     "text": [
      "C:\\Users\\lucas\\AppData\\Local\\Temp\\ipykernel_15656\\2162337185.py:1: FutureWarning: The default value of numeric_only in DataFrame.corr is deprecated. In a future version, it will default to False. Select only valid columns or specify the value of numeric_only to silence this warning.\n",
      "  sns.heatmap(df.corr(), annot = True, cmap = 'inferno')\n"
     ]
    },
    {
     "data": {
      "text/plain": [
       "<Axes: >"
      ]
     },
     "execution_count": 9,
     "metadata": {},
     "output_type": "execute_result"
    },
    {
     "data": {
      "image/png": "[encoded data removed]",
      "text/plain": [
       "<Figure size 640x480 with 2 Axes>"
      ]
     },
     "metadata": {},
     "output_type": "display_data"
    }
   ],
   "source": [
    "sns.heatmap(df.corr(), annot = True, cmap = 'inferno')"
   ]
  },
  {
   "cell_type": "code",
   "execution_count": 10,
   "metadata": {},
   "outputs": [
    {
     "data": {
      "text/html": [
       "<div>\n",
       "<style scoped>\n",
       "    .dataframe tbody tr th:only-of-type {\n",
       "        vertical-align: middle;\n",
       "    }\n",
       "\n",
       "    .dataframe tbody tr th {\n",
       "        vertical-align: top;\n",
       "    }\n",
       "\n",
       "    .dataframe thead th {\n",
       "        text-align: right;\n",
       "    }\n",
       "</style>\n",
       "<table border=\"1\" class=\"dataframe\">\n",
       "  <thead>\n",
       "    <tr style=\"text-align: right;\">\n",
       "      <th></th>\n",
       "      <th>Retailer</th>\n",
       "      <th>Invoice Date</th>\n",
       "      <th>Region</th>\n",
       "      <th>State</th>\n",
       "      <th>City</th>\n",
       "      <th>Product</th>\n",
       "      <th>Unit Price</th>\n",
       "      <th>Units Sold</th>\n",
       "      <th>Total Sales</th>\n",
       "      <th>Operating Profit</th>\n",
       "      <th>Operating Margin</th>\n",
       "      <th>Sales Method</th>\n",
       "    </tr>\n",
       "  </thead>\n",
       "  <tbody>\n",
       "    <tr>\n",
       "      <th>0</th>\n",
       "      <td>Foot Locker</td>\n",
       "      <td>2020-02-03</td>\n",
       "      <td>Northeast</td>\n",
       "      <td>New York</td>\n",
       "      <td>New York</td>\n",
       "      <td>Women's Athletic Footwear</td>\n",
       "      <td>45.0</td>\n",
       "      <td>825</td>\n",
       "      <td>371250.0</td>\n",
       "      <td>129937.5</td>\n",
       "      <td>0.35</td>\n",
       "      <td>Outlet</td>\n",
       "    </tr>\n",
       "    <tr>\n",
       "      <th>1</th>\n",
       "      <td>Foot Locker</td>\n",
       "      <td>2020-02-04</td>\n",
       "      <td>Northeast</td>\n",
       "      <td>New York</td>\n",
       "      <td>New York</td>\n",
       "      <td>Men's Apparel</td>\n",
       "      <td>60.0</td>\n",
       "      <td>825</td>\n",
       "      <td>495000.0</td>\n",
       "      <td>148500.0</td>\n",
       "      <td>0.30</td>\n",
       "      <td>Outlet</td>\n",
       "    </tr>\n",
       "    <tr>\n",
       "      <th>2</th>\n",
       "      <td>Foot Locker</td>\n",
       "      <td>2020-02-05</td>\n",
       "      <td>Northeast</td>\n",
       "      <td>New York</td>\n",
       "      <td>New York</td>\n",
       "      <td>Women's Apparel</td>\n",
       "      <td>50.0</td>\n",
       "      <td>950</td>\n",
       "      <td>475000.0</td>\n",
       "      <td>118750.0</td>\n",
       "      <td>0.25</td>\n",
       "      <td>Outlet</td>\n",
       "    </tr>\n",
       "    <tr>\n",
       "      <th>3</th>\n",
       "      <td>Foot Locker</td>\n",
       "      <td>2020-02-06</td>\n",
       "      <td>Northeast</td>\n",
       "      <td>New York</td>\n",
       "      <td>New York</td>\n",
       "      <td>Men's Street Footwear</td>\n",
       "      <td>60.0</td>\n",
       "      <td>1220</td>\n",
       "      <td>732000.0</td>\n",
       "      <td>366000.0</td>\n",
       "      <td>0.50</td>\n",
       "      <td>Outlet</td>\n",
       "    </tr>\n",
       "    <tr>\n",
       "      <th>4</th>\n",
       "      <td>Foot Locker</td>\n",
       "      <td>2020-02-07</td>\n",
       "      <td>Northeast</td>\n",
       "      <td>New York</td>\n",
       "      <td>New York</td>\n",
       "      <td>Men's Athletic Footwear</td>\n",
       "      <td>55.0</td>\n",
       "      <td>925</td>\n",
       "      <td>508750.0</td>\n",
       "      <td>152625.0</td>\n",
       "      <td>0.30</td>\n",
       "      <td>Outlet</td>\n",
       "    </tr>\n",
       "  </tbody>\n",
       "</table>\n",
       "</div>"
      ],
      "text/plain": [
       "      Retailer Invoice Date     Region     State      City  \\\n",
       "0  Foot Locker   2020-02-03  Northeast  New York  New York   \n",
       "1  Foot Locker   2020-02-04  Northeast  New York  New York   \n",
       "2  Foot Locker   2020-02-05  Northeast  New York  New York   \n",
       "3  Foot Locker   2020-02-06  Northeast  New York  New York   \n",
       "4  Foot Locker   2020-02-07  Northeast  New York  New York   \n",
       "\n",
       "                     Product  Unit Price  Units Sold  Total Sales  \\\n",
       "0  Women's Athletic Footwear        45.0         825     371250.0   \n",
       "1              Men's Apparel        60.0         825     495000.0   \n",
       "2            Women's Apparel        50.0         950     475000.0   \n",
       "3      Men's Street Footwear        60.0        1220     732000.0   \n",
       "4    Men's Athletic Footwear        55.0         925     508750.0   \n",
       "\n",
       "   Operating Profit  Operating Margin Sales Method  \n",
       "0          129937.5              0.35       Outlet  \n",
       "1          148500.0              0.30       Outlet  \n",
       "2          118750.0              0.25       Outlet  \n",
       "3          366000.0              0.50       Outlet  \n",
       "4          152625.0              0.30       Outlet  "
      ]
     },
     "execution_count": 10,
     "metadata": {},
     "output_type": "execute_result"
    }
   ],
   "source": [
    "df.head()"
   ]
  },
  {
   "cell_type": "code",
   "execution_count": 11,
   "metadata": {},
   "outputs": [
    {
     "data": {
      "text/plain": [
       "Men's Street Footwear        1610\n",
       "Men's Athletic Footwear      1610\n",
       "Women's Apparel              1608\n",
       "Women's Street Footwear      1608\n",
       "Women's Athletic Footwear    1606\n",
       "Men's Apparel                1606\n",
       "Name: Product, dtype: int64"
      ]
     },
     "execution_count": 11,
     "metadata": {},
     "output_type": "execute_result"
    }
   ],
   "source": [
    "df['Product'].value_counts()"
   ]
  },
  {
   "cell_type": "code",
   "execution_count": 12,
   "metadata": {},
   "outputs": [
    {
     "data": {
      "text/plain": [
       "Index(['West', 'Northeast', 'Midwest', 'South', 'Southeast'], dtype='object')"
      ]
     },
     "execution_count": 12,
     "metadata": {},
     "output_type": "execute_result"
    }
   ],
   "source": [
    "df['Region'].value_counts().index"
   ]
  },
  {
   "cell_type": "markdown",
   "metadata": {},
   "source": [
    "## Visualização de dados"
   ]
  },
  {
   "cell_type": "markdown",
   "metadata": {},
   "source": [
    "Ideias:\n",
    "\n",
    "FILTROS: RETAILER, PRODUTO e REGIÃO\n",
    "\n",
    "- Dados consolidados: Lucro total, total de vendas (canto superior esquerdo) (70%)\n",
    "\n",
    "- Canto superior direito: vendas de um produto, retailer e em determinado estado ao longo do tempo (30%)\n",
    "- Meio esquerdo (70%): Vendas de um produto e retailer distribuída por estados\n",
    "- Meio direito (30%): pizza de sales method estratificado por produto, estado e retailer\n",
    "\n",
    "filtro por REGIÃO / total\n",
    "- Canto inferior esquerdo (50%): Se total - gráfico de barras com as vendas totais por estado; se não, indicador\n",
    "- Canto inferior direito (50%): vendas cumulativas por produto (Pareto) "
   ]
  },
  {
   "cell_type": "markdown",
   "metadata": {},
   "source": [
    "### 1. Dados consolidados"
   ]
  },
  {
   "cell_type": "code",
   "execution_count": 13,
   "metadata": {},
   "outputs": [],
   "source": [
    "# Lucro total por Retailer, Produto e Região\n",
    "\n",
    "\n",
    "def total_profit(df, retailer, product, region):\n",
    "    df_filtered = df[df['Region'] == region]\n",
    "    df_filtered_aux = df_filtered[df_filtered['Product'] == product]\n",
    "    df_filtered_aux_final = df_filtered_aux[df_filtered_aux['Retailer'] == retailer]\n",
    "\n",
    "    return round(df_filtered_aux_final['Operating Profit'].sum(),3)\n"
   ]
  },
  {
   "cell_type": "code",
   "execution_count": 14,
   "metadata": {},
   "outputs": [],
   "source": [
    "\n",
    "def total_sales(df, retailer, product, region):\n",
    "    df_filtered = df[df['Region'] == region]\n",
    "    df_filtered_aux = df_filtered[df_filtered['Product'] == product]\n",
    "    df_filtered_aux_final = df_filtered_aux[df_filtered_aux['Retailer'] == retailer]\n",
    "\n",
    "    return df_filtered_aux_final['Units'].sum()"
   ]
  },
  {
   "cell_type": "markdown",
   "metadata": {},
   "source": [
    "### 2. Vendas ao longo do tempo"
   ]
  },
  {
   "cell_type": "code",
   "execution_count": 15,
   "metadata": {},
   "outputs": [],
   "source": [
    "def sales_timeseries(df, retailer, product, region):\n",
    "    df_filtered = df[df['Region'] == region]\n",
    "    df_filtered_aux = df_filtered[df_filtered['Product'] == product]\n",
    "    df_filtered_aux_final = df_filtered_aux[df_filtered_aux['Retailer'] == retailer]\n",
    "    df_filtered_aux_final = df_filtered_aux_final.groupby('Invoice Date')['Units Sold'].sum().reset_index()\n",
    "    \n",
    "    # Criando o gráfico:\n",
    "\n",
    "    fig = px.line(\n",
    "        df_filtered_aux_final,\n",
    "        x=\"Invoice Date\",\n",
    "        y=\"Units Sold\",\n",
    "        template = 'gridon',\n",
    "        hover_data = ['Units Sold'],\n",
    "        title=f'Sales of {product} in {region} by {retailer} over Time',\n",
    "        #labels = \n",
    "    )\n",
    "\n",
    "    return fig"
   ]
  },
  {
   "cell_type": "code",
   "execution_count": 16,
   "metadata": {},
   "outputs": [
    {
     "data": {
      "application/vnd.plotly.v1+json": {
       "config": {
        "plotlyServerURL": "https://plot.ly"
       },
       "data": [
        {
         "hovertemplate": "Invoice Date=%{x}<br>Units Sold=%{y}<extra></extra>",
         "legendgroup": "",
         "line": {
          "color": "#1F77B4",
          "dash": "solid"
         },
         "marker": {
          "symbol": "circle"
         },
         "mode": "lines",
         "name": "",
         "orientation": "v",
         "showlegend": false,
         "type": "scatter",
         "x": [
          "2020-08-21T00:00:00",
          "2020-09-20T00:00:00",
          "2020-10-20T00:00:00",
          "2021-01-09T00:00:00",
          "2021-01-20T00:00:00",
          "2021-02-07T00:00:00",
          "2021-02-24T00:00:00",
          "2021-03-05T00:00:00",
          "2021-03-23T00:00:00",
          "2021-04-06T00:00:00",
          "2021-04-24T00:00:00",
          "2021-05-05T00:00:00",
          "2021-05-25T00:00:00",
          "2021-06-07T00:00:00",
          "2021-06-24T00:00:00",
          "2021-07-05T00:00:00",
          "2021-07-23T00:00:00",
          "2021-08-06T00:00:00",
          "2021-08-24T00:00:00",
          "2021-09-05T00:00:00",
          "2021-09-25T00:00:00",
          "2021-10-07T00:00:00",
          "2021-10-24T00:00:00",
          "2021-11-06T00:00:00",
          "2021-11-22T00:00:00",
          "2021-11-24T00:00:00",
          "2021-12-12T00:00:00",
          "2021-12-21T00:00:00"
         ],
         "xaxis": "x",
         "y": [
          800,
          1008,
          126,
          1087,
          476,
          794,
          322,
          719,
          393,
          780,
          349,
          857,
          429,
          968,
          851,
          977,
          886,
          1008,
          672,
          910,
          324,
          826,
          524,
          975,
          252,
          707,
          746,
          293
         ],
         "yaxis": "y"
        }
       ],
       "layout": {
        "legend": {
         "tracegroupgap": 0
        },
        "template": {
         "data": {
          "pie": [
           {
            "automargin": true,
            "type": "pie"
           }
          ]
         },
         "layout": {
          "xaxis": {
           "showgrid": true,
           "title": {
            "standoff": 15
           }
          },
          "yaxis": {
           "showgrid": true,
           "title": {
            "standoff": 15
           }
          }
         }
        },
        "title": {
         "text": "Sales of Women's Athletic Footwear in Southeast by Foot Locker over Time"
        },
        "xaxis": {
         "anchor": "y",
         "domain": [
          0,
          1
         ],
         "title": {
          "text": "Invoice Date"
         }
        },
        "yaxis": {
         "anchor": "x",
         "domain": [
          0,
          1
         ],
         "title": {
          "text": "Units Sold"
         }
        }
       }
      }
     },
     "metadata": {},
     "output_type": "display_data"
    }
   ],
   "source": [
    "sales_timeseries(df, \"Foot Locker\", \"Women's Athletic Footwear\", \"Southeast\") # Exemplo"
   ]
  },
  {
   "cell_type": "markdown",
   "metadata": {},
   "source": [
    "### 3. Vendas de um produto e Retailer distribuídas por estados"
   ]
  },
  {
   "cell_type": "code",
   "execution_count": 17,
   "metadata": {},
   "outputs": [],
   "source": [
    "def state_sales_distribution(df, product, retailer):\n",
    "    df_filtered= df[df['Product'] == product]\n",
    "    df_filtered_aux = df_filtered[df_filtered['Retailer'] == retailer]\n",
    "\n",
    "    df_filtered_aux = df_filtered_aux.groupby('State')[['Units Sold', 'Total Sales']].sum().reset_index()\n",
    "\n",
    "    # Gerando o gráfico:\n",
    "\n",
    "    fig = go.Figure()\n",
    "    fig.add_trace(go.Bar(x = df_filtered_aux[\"State\"], y = df_filtered_aux[\"Total Sales\"], name = \"Total Sales\"))\n",
    "    fig.add_trace(go.Scatter(x=df_filtered_aux[\"State\"], y = df_filtered_aux[\"Units Sold\"], mode = \"lines\",\n",
    "                            name =\"Units Sold\", yaxis=\"y2\"))\n",
    "    fig.update_layout(\n",
    "        title = \"Total Sales and Units Sold by State\",\n",
    "        xaxis = dict(title=\"State\"),\n",
    "        yaxis = dict(title=\"Total Sales\", showgrid = False),\n",
    "        yaxis2 = dict(title=\"Units Sold\", overlaying = \"y\", side = \"right\"),\n",
    "        template = \"gridon\",\n",
    "        legend = dict(x=1,y=1.1)\n",
    "    )\n",
    "\n",
    "    return fig\n",
    "\n",
    "\n",
    "    "
   ]
  },
  {
   "cell_type": "code",
   "execution_count": 18,
   "metadata": {},
   "outputs": [
    {
     "data": {
      "application/vnd.plotly.v1+json": {
       "config": {
        "plotlyServerURL": "https://plot.ly"
       },
       "data": [
        {
         "name": "Total Sales",
         "type": "bar",
         "x": [
          "Alaska",
          "Arizona",
          "California",
          "Connecticut",
          "Delaware",
          "Florida",
          "Georgia",
          "Hawaii",
          "Idaho",
          "Illinois",
          "Iowa",
          "Kansas",
          "Kentucky",
          "Louisiana",
          "Maryland",
          "Michigan",
          "Minnesota",
          "Mississippi",
          "Missouri",
          "Nebraska",
          "New Hampshire",
          "New York",
          "North Dakota",
          "Pennsylvania",
          "Rhode Island",
          "South Carolina",
          "South Dakota",
          "Tennessee",
          "Texas",
          "Virginia",
          "Washington",
          "West Virginia",
          "Wyoming"
         ],
         "y": [
          103658,
          1597862,
          52365,
          355402.00000000006,
          850826,
          646056,
          521875,
          1694894,
          962585,
          735881,
          376730,
          386016.00000000006,
          324609,
          646363.0000000002,
          329535,
          352222,
          451667,
          556107,
          718022.0000000001,
          294873,
          658174.0000000001,
          3433814,
          199995,
          784975.0000000001,
          414879,
          3090484,
          464200,
          23519.000000000004,
          31366,
          2226604,
          286650,
          354424,
          312992
         ]
        },
        {
         "mode": "lines",
         "name": "Units Sold",
         "type": "scatter",
         "x": [
          "Alaska",
          "Arizona",
          "California",
          "Connecticut",
          "Delaware",
          "Florida",
          "Georgia",
          "Hawaii",
          "Idaho",
          "Illinois",
          "Iowa",
          "Kansas",
          "Kentucky",
          "Louisiana",
          "Maryland",
          "Michigan",
          "Minnesota",
          "Mississippi",
          "Missouri",
          "Nebraska",
          "New Hampshire",
          "New York",
          "North Dakota",
          "Pennsylvania",
          "Rhode Island",
          "South Carolina",
          "South Dakota",
          "Tennessee",
          "Texas",
          "Virginia",
          "Washington",
          "West Virginia",
          "Wyoming"
         ],
         "y": [
          281,
          5042,
          200,
          1040,
          2417,
          1934,
          1833,
          3208,
          3219,
          2064,
          1552,
          909,
          1021,
          1722,
          922,
          1040,
          1536,
          2733,
          3504,
          1148,
          1601,
          10996,
          602,
          2244,
          1609,
          8814,
          1495,
          117,
          117,
          5457,
          875,
          963,
          889
         ],
         "yaxis": "y2"
        }
       ],
       "layout": {
        "legend": {
         "x": 1,
         "y": 1.1
        },
        "template": {
         "data": {
          "pie": [
           {
            "automargin": true,
            "type": "pie"
           }
          ]
         },
         "layout": {
          "xaxis": {
           "showgrid": true,
           "title": {
            "standoff": 15
           }
          },
          "yaxis": {
           "showgrid": true,
           "title": {
            "standoff": 15
           }
          }
         }
        },
        "title": {
         "text": "Total Sales and Units Sold by State"
        },
        "xaxis": {
         "title": {
          "text": "State"
         }
        },
        "yaxis": {
         "showgrid": false,
         "title": {
          "text": "Total Sales"
         }
        },
        "yaxis2": {
         "overlaying": "y",
         "side": "right",
         "title": {
          "text": "Units Sold"
         }
        }
       }
      }
     },
     "metadata": {},
     "output_type": "display_data"
    }
   ],
   "source": [
    "state_sales_distribution(df, \"Women's Athletic Footwear\", \"Foot Locker\")"
   ]
  },
  {
   "cell_type": "markdown",
   "metadata": {},
   "source": [
    "### 4. Pizza de sales method estratificado por produto, estado e retailer"
   ]
  },
  {
   "cell_type": "code",
   "execution_count": 32,
   "metadata": {},
   "outputs": [],
   "source": [
    "def sales_method_distribution(df, product, state, retailer):\n",
    "    df_filtered = df[df['State'] == state]\n",
    "    df_filtered_aux = df_filtered[df_filtered['Product'] == product]\n",
    "    df_filtered_aux_final = df_filtered_aux[df_filtered_aux['Retailer'] == retailer]\n",
    "\n",
    "    pie = df_filtered_aux_final['Sales Method'].value_counts()\n",
    "\n",
    "    # Gerando a Figura\n",
    "    fig = px.pie(\n",
    "        pie,\n",
    "        values='Sales Method',\n",
    "        names=list(pie.index),\n",
    "        labels= {'Sales Method': 'Sales Method'},\n",
    "        title=f'{retailer} Sales Method distribution in {state}',\n",
    "        template = 'gridon'\n",
    "    )\n",
    "\n",
    "    fig.update_traces(hovertemplate='<b>%{label}</b><br>Count: %{value}<br>Percent: %{percent}')\n",
    "\n",
    "    return pie\n",
    "    "
   ]
  },
  {
   "cell_type": "code",
   "execution_count": 33,
   "metadata": {},
   "outputs": [
    {
     "data": {
      "text/plain": [
       "Outlet      15\n",
       "Online       8\n",
       "In-store     1\n",
       "Name: Sales Method, dtype: int64"
      ]
     },
     "execution_count": 33,
     "metadata": {},
     "output_type": "execute_result"
    }
   ],
   "source": [
    "sales_method_distribution(df, \"Women's Athletic Footwear\", \"New York\", \"Foot Locker\")"
   ]
  },
  {
   "cell_type": "markdown",
   "metadata": {},
   "source": [
    "### 5. Gráfico de barras com as vendas totais por estado (sem Filtros)"
   ]
  },
  {
   "cell_type": "code",
   "execution_count": 21,
   "metadata": {},
   "outputs": [],
   "source": [
    "def state_sales(df):\n",
    "    df_filtered = df.groupby('Region')['Total Sales'].sum().reset_index()\n",
    "\n",
    "    fig = px.bar(\n",
    "        df_filtered,\n",
    "        x=\"Region\",\n",
    "        y=\"Total Sales\",\n",
    "        title=\"State Sales\",\n",
    "    )\n",
    "    return fig"
   ]
  },
  {
   "cell_type": "code",
   "execution_count": 22,
   "metadata": {},
   "outputs": [
    {
     "data": {
      "application/vnd.plotly.v1+json": {
       "config": {
        "plotlyServerURL": "https://plot.ly"
       },
       "data": [
        {
         "alignmentgroup": "True",
         "hovertemplate": "Region=%{x}<br>Total Sales=%{y}<extra></extra>",
         "legendgroup": "",
         "marker": {
          "color": "#636efa",
          "pattern": {
           "shape": ""
          }
         },
         "name": "",
         "offsetgroup": "",
         "orientation": "v",
         "showlegend": false,
         "textposition": "auto",
         "type": "bar",
         "x": [
          "Midwest",
          "Northeast",
          "South",
          "Southeast",
          "West"
         ],
         "xaxis": "x",
         "y": [
          135800459,
          186106567,
          144663181,
          163171236,
          269943182
         ],
         "yaxis": "y"
        }
       ],
       "layout": {
        "barmode": "relative",
        "legend": {
         "tracegroupgap": 0
        },
        "template": {
         "data": {
          "bar": [
           {
            "error_x": {
             "color": "#2a3f5f"
            },
            "error_y": {
             "color": "#2a3f5f"
            },
            "marker": {
             "line": {
              "color": "#E5ECF6",
              "width": 0.5
             },
             "pattern": {
              "fillmode": "overlay",
              "size": 10,
              "solidity": 0.2
             }
            },
            "type": "bar"
           }
          ],
          "barpolar": [
           {
            "marker": {
             "line": {
              "color": "#E5ECF6",
              "width": 0.5
             },
             "pattern": {
              "fillmode": "overlay",
              "size": 10,
              "solidity": 0.2
             }
            },
            "type": "barpolar"
           }
          ],
          "carpet": [
           {
            "aaxis": {
             "endlinecolor": "#2a3f5f",
             "gridcolor": "white",
             "linecolor": "white",
             "minorgridcolor": "white",
             "startlinecolor": "#2a3f5f"
            },
            "baxis": {
             "endlinecolor": "#2a3f5f",
             "gridcolor": "white",
             "linecolor": "white",
             "minorgridcolor": "white",
             "startlinecolor": "#2a3f5f"
            },
            "type": "carpet"
           }
          ],
          "choropleth": [
           {
            "colorbar": {
             "outlinewidth": 0,
             "ticks": ""
            },
            "type": "choropleth"
           }
          ],
          "contour": [
           {
            "colorbar": {
             "outlinewidth": 0,
             "ticks": ""
            },
            "colorscale": [
             [
              0,
              "#0d0887"
             ],
             [
              0.1111111111111111,
              "#46039f"
             ],
             [
              0.2222222222222222,
              "#7201a8"
             ],
             [
              0.3333333333333333,
              "#9c179e"
             ],
             [
              0.4444444444444444,
              "#bd3786"
             ],
             [
              0.5555555555555556,
              "#d8576b"
             ],
             [
              0.6666666666666666,
              "#ed7953"
             ],
             [
              0.7777777777777778,
              "#fb9f3a"
             ],
             [
              0.8888888888888888,
              "#fdca26"
             ],
             [
              1,
              "#f0f921"
             ]
            ],
            "type": "contour"
           }
          ],
          "contourcarpet": [
           {
            "colorbar": {
             "outlinewidth": 0,
             "ticks": ""
            },
            "type": "contourcarpet"
           }
          ],
          "heatmap": [
           {
            "colorbar": {
             "outlinewidth": 0,
             "ticks": ""
            },
            "colorscale": [
             [
              0,
              "#0d0887"
             ],
             [
              0.1111111111111111,
              "#46039f"
             ],
             [
              0.2222222222222222,
              "#7201a8"
             ],
             [
              0.3333333333333333,
              "#9c179e"
             ],
             [
              0.4444444444444444,
              "#bd3786"
             ],
             [
              0.5555555555555556,
              "#d8576b"
             ],
             [
              0.6666666666666666,
              "#ed7953"
             ],
             [
              0.7777777777777778,
              "#fb9f3a"
             ],
             [
              0.8888888888888888,
              "#fdca26"
             ],
             [
              1,
              "#f0f921"
             ]
            ],
            "type": "heatmap"
           }
          ],
          "heatmapgl": [
           {
            "colorbar": {
             "outlinewidth": 0,
             "ticks": ""
            },
            "colorscale": [
             [
              0,
              "#0d0887"
             ],
             [
              0.1111111111111111,
              "#46039f"
             ],
             [
              0.2222222222222222,
              "#7201a8"
             ],
             [
              0.3333333333333333,
              "#9c179e"
             ],
             [
              0.4444444444444444,
              "#bd3786"
             ],
             [
              0.5555555555555556,
              "#d8576b"
             ],
             [
              0.6666666666666666,
              "#ed7953"
             ],
             [
              0.7777777777777778,
              "#fb9f3a"
             ],
             [
              0.8888888888888888,
              "#fdca26"
             ],
             [
              1,
              "#f0f921"
             ]
            ],
            "type": "heatmapgl"
           }
          ],
          "histogram": [
           {
            "marker": {
             "pattern": {
              "fillmode": "overlay",
              "size": 10,
              "solidity": 0.2
             }
            },
            "type": "histogram"
           }
          ],
          "histogram2d": [
           {
            "colorbar": {
             "outlinewidth": 0,
             "ticks": ""
            },
            "colorscale": [
             [
              0,
              "#0d0887"
             ],
             [
              0.1111111111111111,
              "#46039f"
             ],
             [
              0.2222222222222222,
              "#7201a8"
             ],
             [
              0.3333333333333333,
              "#9c179e"
             ],
             [
              0.4444444444444444,
              "#bd3786"
             ],
             [
              0.5555555555555556,
              "#d8576b"
             ],
             [
              0.6666666666666666,
              "#ed7953"
             ],
             [
              0.7777777777777778,
              "#fb9f3a"
             ],
             [
              0.8888888888888888,
              "#fdca26"
             ],
             [
              1,
              "#f0f921"
             ]
            ],
            "type": "histogram2d"
           }
          ],
          "histogram2dcontour": [
           {
            "colorbar": {
             "outlinewidth": 0,
             "ticks": ""
            },
            "colorscale": [
             [
              0,
              "#0d0887"
             ],
             [
              0.1111111111111111,
              "#46039f"
             ],
             [
              0.2222222222222222,
              "#7201a8"
             ],
             [
              0.3333333333333333,
              "#9c179e"
             ],
             [
              0.4444444444444444,
              "#bd3786"
             ],
             [
              0.5555555555555556,
              "#d8576b"
             ],
             [
              0.6666666666666666,
              "#ed7953"
             ],
             [
              0.7777777777777778,
              "#fb9f3a"
             ],
             [
              0.8888888888888888,
              "#fdca26"
             ],
             [
              1,
              "#f0f921"
             ]
            ],
            "type": "histogram2dcontour"
           }
          ],
          "mesh3d": [
           {
            "colorbar": {
             "outlinewidth": 0,
             "ticks": ""
            },
            "type": "mesh3d"
           }
          ],
          "parcoords": [
           {
            "line": {
             "colorbar": {
              "outlinewidth": 0,
              "ticks": ""
             }
            },
            "type": "parcoords"
           }
          ],
          "pie": [
           {
            "automargin": true,
            "type": "pie"
           }
          ],
          "scatter": [
           {
            "fillpattern": {
             "fillmode": "overlay",
             "size": 10,
             "solidity": 0.2
            },
            "type": "scatter"
           }
          ],
          "scatter3d": [
           {
            "line": {
             "colorbar": {
              "outlinewidth": 0,
              "ticks": ""
             }
            },
            "marker": {
             "colorbar": {
              "outlinewidth": 0,
              "ticks": ""
             }
            },
            "type": "scatter3d"
           }
          ],
          "scattercarpet": [
           {
            "marker": {
             "colorbar": {
              "outlinewidth": 0,
              "ticks": ""
             }
            },
            "type": "scattercarpet"
           }
          ],
          "scattergeo": [
           {
            "marker": {
             "colorbar": {
              "outlinewidth": 0,
              "ticks": ""
             }
            },
            "type": "scattergeo"
           }
          ],
          "scattergl": [
           {
            "marker": {
             "colorbar": {
              "outlinewidth": 0,
              "ticks": ""
             }
            },
            "type": "scattergl"
           }
          ],
          "scattermapbox": [
           {
            "marker": {
             "colorbar": {
              "outlinewidth": 0,
              "ticks": ""
             }
            },
            "type": "scattermapbox"
           }
          ],
          "scatterpolar": [
           {
            "marker": {
             "colorbar": {
              "outlinewidth": 0,
              "ticks": ""
             }
            },
            "type": "scatterpolar"
           }
          ],
          "scatterpolargl": [
           {
            "marker": {
             "colorbar": {
              "outlinewidth": 0,
              "ticks": ""
             }
            },
            "type": "scatterpolargl"
           }
          ],
          "scatterternary": [
           {
            "marker": {
             "colorbar": {
              "outlinewidth": 0,
              "ticks": ""
             }
            },
            "type": "scatterternary"
           }
          ],
          "surface": [
           {
            "colorbar": {
             "outlinewidth": 0,
             "ticks": ""
            },
            "colorscale": [
             [
              0,
              "#0d0887"
             ],
             [
              0.1111111111111111,
              "#46039f"
             ],
             [
              0.2222222222222222,
              "#7201a8"
             ],
             [
              0.3333333333333333,
              "#9c179e"
             ],
             [
              0.4444444444444444,
              "#bd3786"
             ],
             [
              0.5555555555555556,
              "#d8576b"
             ],
             [
              0.6666666666666666,
              "#ed7953"
             ],
             [
              0.7777777777777778,
              "#fb9f3a"
             ],
             [
              0.8888888888888888,
              "#fdca26"
             ],
             [
              1,
              "#f0f921"
             ]
            ],
            "type": "surface"
           }
          ],
          "table": [
           {
            "cells": {
             "fill": {
              "color": "#EBF0F8"
             },
             "line": {
              "color": "white"
             }
            },
            "header": {
             "fill": {
              "color": "#C8D4E3"
             },
             "line": {
              "color": "white"
             }
            },
            "type": "table"
           }
          ]
         },
         "layout": {
          "annotationdefaults": {
           "arrowcolor": "#2a3f5f",
           "arrowhead": 0,
           "arrowwidth": 1
          },
          "autotypenumbers": "strict",
          "coloraxis": {
           "colorbar": {
            "outlinewidth": 0,
            "ticks": ""
           }
          },
          "colorscale": {
           "diverging": [
            [
             0,
             "#8e0152"
            ],
            [
             0.1,
             "#c51b7d"
            ],
            [
             0.2,
             "#de77ae"
            ],
            [
             0.3,
             "#f1b6da"
            ],
            [
             0.4,
             "#fde0ef"
            ],
            [
             0.5,
             "#f7f7f7"
            ],
            [
             0.6,
             "#e6f5d0"
            ],
            [
             0.7,
             "#b8e186"
            ],
            [
             0.8,
             "#7fbc41"
            ],
            [
             0.9,
             "#4d9221"
            ],
            [
             1,
             "#276419"
            ]
           ],
           "sequential": [
            [
             0,
             "#0d0887"
            ],
            [
             0.1111111111111111,
             "#46039f"
            ],
            [
             0.2222222222222222,
             "#7201a8"
            ],
            [
             0.3333333333333333,
             "#9c179e"
            ],
            [
             0.4444444444444444,
             "#bd3786"
            ],
            [
             0.5555555555555556,
             "#d8576b"
            ],
            [
             0.6666666666666666,
             "#ed7953"
            ],
            [
             0.7777777777777778,
             "#fb9f3a"
            ],
            [
             0.8888888888888888,
             "#fdca26"
            ],
            [
             1,
             "#f0f921"
            ]
           ],
           "sequentialminus": [
            [
             0,
             "#0d0887"
            ],
            [
             0.1111111111111111,
             "#46039f"
            ],
            [
             0.2222222222222222,
             "#7201a8"
            ],
            [
             0.3333333333333333,
             "#9c179e"
            ],
            [
             0.4444444444444444,
             "#bd3786"
            ],
            [
             0.5555555555555556,
             "#d8576b"
            ],
            [
             0.6666666666666666,
             "#ed7953"
            ],
            [
             0.7777777777777778,
             "#fb9f3a"
            ],
            [
             0.8888888888888888,
             "#fdca26"
            ],
            [
             1,
             "#f0f921"
            ]
           ]
          },
          "colorway": [
           "#636efa",
           "#EF553B",
           "#00cc96",
           "#ab63fa",
           "#FFA15A",
           "#19d3f3",
           "#FF6692",
           "#B6E880",
           "#FF97FF",
           "#FECB52"
          ],
          "font": {
           "color": "#2a3f5f"
          },
          "geo": {
           "bgcolor": "white",
           "lakecolor": "white",
           "landcolor": "#E5ECF6",
           "showlakes": true,
           "showland": true,
           "subunitcolor": "white"
          },
          "hoverlabel": {
           "align": "left"
          },
          "hovermode": "closest",
          "mapbox": {
           "style": "light"
          },
          "paper_bgcolor": "white",
          "plot_bgcolor": "#E5ECF6",
          "polar": {
           "angularaxis": {
            "gridcolor": "white",
            "linecolor": "white",
            "ticks": ""
           },
           "bgcolor": "#E5ECF6",
           "radialaxis": {
            "gridcolor": "white",
            "linecolor": "white",
            "ticks": ""
           }
          },
          "scene": {
           "xaxis": {
            "backgroundcolor": "#E5ECF6",
            "gridcolor": "white",
            "gridwidth": 2,
            "linecolor": "white",
            "showbackground": true,
            "ticks": "",
            "zerolinecolor": "white"
           },
           "yaxis": {
            "backgroundcolor": "#E5ECF6",
            "gridcolor": "white",
            "gridwidth": 2,
            "linecolor": "white",
            "showbackground": true,
            "ticks": "",
            "zerolinecolor": "white"
           },
           "zaxis": {
            "backgroundcolor": "#E5ECF6",
            "gridcolor": "white",
            "gridwidth": 2,
            "linecolor": "white",
            "showbackground": true,
            "ticks": "",
            "zerolinecolor": "white"
           }
          },
          "shapedefaults": {
           "line": {
            "color": "#2a3f5f"
           }
          },
          "ternary": {
           "aaxis": {
            "gridcolor": "white",
            "linecolor": "white",
            "ticks": ""
           },
           "baxis": {
            "gridcolor": "white",
            "linecolor": "white",
            "ticks": ""
           },
           "bgcolor": "#E5ECF6",
           "caxis": {
            "gridcolor": "white",
            "linecolor": "white",
            "ticks": ""
           }
          },
          "title": {
           "x": 0.05
          },
          "xaxis": {
           "automargin": true,
           "gridcolor": "white",
           "linecolor": "white",
           "ticks": "",
           "title": {
            "standoff": 15
           },
           "zerolinecolor": "white",
           "zerolinewidth": 2
          },
          "yaxis": {
           "automargin": true,
           "gridcolor": "white",
           "linecolor": "white",
           "ticks": "",
           "title": {
            "standoff": 15
           },
           "zerolinecolor": "white",
           "zerolinewidth": 2
          }
         }
        },
        "title": {
         "text": "State Sales"
        },
        "xaxis": {
         "anchor": "y",
         "domain": [
          0,
          1
         ],
         "title": {
          "text": "Region"
         }
        },
        "yaxis": {
         "anchor": "x",
         "domain": [
          0,
          1
         ],
         "title": {
          "text": "Total Sales"
         }
        }
       }
      }
     },
     "metadata": {},
     "output_type": "display_data"
    }
   ],
   "source": [
    "state_sales(df)"
   ]
  },
  {
   "cell_type": "markdown",
   "metadata": {},
   "source": [
    "### 6. Gráfico de Pareto (sem filtros)"
   ]
  },
  {
   "cell_type": "code",
   "execution_count": 23,
   "metadata": {},
   "outputs": [],
   "source": [
    "df_pareto = pd.DataFrame(df.groupby('Product')['Units Sold'].sum())\n",
    "df_pareto.reset_index(inplace = True)\n",
    "df_pareto.sort_values('Units Sold', ascending= False, inplace= True)\n",
    "df_pareto['Cumulative Sales'] = df_pareto['Units Sold'].cumsum()\n",
    "df_pareto['Relative Cumulative Sales'] = df_pareto['Cumulative Sales']/(df_pareto['Units Sold'].sum())"
   ]
  },
  {
   "cell_type": "code",
   "execution_count": 24,
   "metadata": {},
   "outputs": [
    {
     "data": {
      "text/html": [
       "<div>\n",
       "<style scoped>\n",
       "    .dataframe tbody tr th:only-of-type {\n",
       "        vertical-align: middle;\n",
       "    }\n",
       "\n",
       "    .dataframe tbody tr th {\n",
       "        vertical-align: top;\n",
       "    }\n",
       "\n",
       "    .dataframe thead th {\n",
       "        text-align: right;\n",
       "    }\n",
       "</style>\n",
       "<table border=\"1\" class=\"dataframe\">\n",
       "  <thead>\n",
       "    <tr style=\"text-align: right;\">\n",
       "      <th></th>\n",
       "      <th>Product</th>\n",
       "      <th>Units Sold</th>\n",
       "      <th>Cumulative Sales</th>\n",
       "      <th>Relative Cumulative Sales</th>\n",
       "    </tr>\n",
       "  </thead>\n",
       "  <tbody>\n",
       "    <tr>\n",
       "      <th>2</th>\n",
       "      <td>Men's Street Footwear</td>\n",
       "      <td>593320</td>\n",
       "      <td>593320</td>\n",
       "      <td>0.239352</td>\n",
       "    </tr>\n",
       "    <tr>\n",
       "      <th>1</th>\n",
       "      <td>Men's Athletic Footwear</td>\n",
       "      <td>435526</td>\n",
       "      <td>1028846</td>\n",
       "      <td>0.415048</td>\n",
       "    </tr>\n",
       "    <tr>\n",
       "      <th>3</th>\n",
       "      <td>Women's Apparel</td>\n",
       "      <td>433827</td>\n",
       "      <td>1462673</td>\n",
       "      <td>0.590058</td>\n",
       "    </tr>\n",
       "    <tr>\n",
       "      <th>5</th>\n",
       "      <td>Women's Street Footwear</td>\n",
       "      <td>392269</td>\n",
       "      <td>1854942</td>\n",
       "      <td>0.748304</td>\n",
       "    </tr>\n",
       "    <tr>\n",
       "      <th>4</th>\n",
       "      <td>Women's Athletic Footwear</td>\n",
       "      <td>317236</td>\n",
       "      <td>2172178</td>\n",
       "      <td>0.876281</td>\n",
       "    </tr>\n",
       "    <tr>\n",
       "      <th>0</th>\n",
       "      <td>Men's Apparel</td>\n",
       "      <td>306683</td>\n",
       "      <td>2478861</td>\n",
       "      <td>1.000000</td>\n",
       "    </tr>\n",
       "  </tbody>\n",
       "</table>\n",
       "</div>"
      ],
      "text/plain": [
       "                     Product  Units Sold  Cumulative Sales  \\\n",
       "2      Men's Street Footwear      593320            593320   \n",
       "1    Men's Athletic Footwear      435526           1028846   \n",
       "3            Women's Apparel      433827           1462673   \n",
       "5    Women's Street Footwear      392269           1854942   \n",
       "4  Women's Athletic Footwear      317236           2172178   \n",
       "0              Men's Apparel      306683           2478861   \n",
       "\n",
       "   Relative Cumulative Sales  \n",
       "2                   0.239352  \n",
       "1                   0.415048  \n",
       "3                   0.590058  \n",
       "5                   0.748304  \n",
       "4                   0.876281  \n",
       "0                   1.000000  "
      ]
     },
     "execution_count": 24,
     "metadata": {},
     "output_type": "execute_result"
    }
   ],
   "source": [
    "df_pareto"
   ]
  },
  {
   "cell_type": "code",
   "execution_count": 25,
   "metadata": {},
   "outputs": [],
   "source": [
    "def pareto(df):\n",
    "    df_pareto = pd.DataFrame(df.groupby('Product')['Units Sold'].sum())\n",
    "    df_pareto.reset_index(inplace = True)\n",
    "    df_pareto.sort_values('Units Sold', ascending= False, inplace= True)\n",
    "    df_pareto['Cumulative Sales'] = df_pareto['Units Sold'].cumsum()\n",
    "    df_pareto['Relative Cumulative Sales'] = df_pareto['Cumulative Sales']/(df_pareto['Units Sold'].sum())\n",
    "\n",
    "\n",
    "    fig = go.Figure()\n",
    "    fig.add_trace(go.Bar(\n",
    "        x=df_pareto['Product'],\n",
    "        y=df_pareto['Units Sold'],\n",
    "        name='Units Sold',\n",
    "        marker_color='yellow',\n",
    "\n",
    "    ))\n",
    "    fig.add_trace(\n",
    "        go.Scatter(\n",
    "            x=df_pareto['Product'],\n",
    "            y=df_pareto['Relative Cumulative Sales'],\n",
    "            name = 'Relative Cumulative Sales',\n",
    "            mode = 'lines',\n",
    "            line=dict(color='blue'),\n",
    "            yaxis='y2' \n",
    "        )\n",
    "\n",
    "    )\n",
    "\n",
    "    fig.update_layout(\n",
    "        title = \"Pareto: Product versus unit sold\",\n",
    "        xaxis = dict(title=\"State\"),\n",
    "        yaxis = dict(title=\"Total Sales\", showgrid = False),\n",
    "        yaxis2 = dict(title=\"Units Sold\", overlaying = \"y\", side = \"right\"),\n",
    "        template = \"gridon\",\n",
    "        legend = dict(x=1,y=1.1)\n",
    "    )\n",
    "\n",
    "    return fig"
   ]
  },
  {
   "cell_type": "code",
   "execution_count": 26,
   "metadata": {},
   "outputs": [
    {
     "data": {
      "application/vnd.plotly.v1+json": {
       "config": {
        "plotlyServerURL": "https://plot.ly"
       },
       "data": [
        {
         "marker": {
          "color": "yellow"
         },
         "name": "Units Sold",
         "type": "bar",
         "x": [
          "Men's Street Footwear",
          "Men's Athletic Footwear",
          "Women's Apparel",
          "Women's Street Footwear",
          "Women's Athletic Footwear",
          "Men's Apparel"
         ],
         "y": [
          593320,
          435526,
          433827,
          392269,
          317236,
          306683
         ]
        },
        {
         "line": {
          "color": "blue"
         },
         "mode": "lines",
         "name": "Relative Cumulative Sales",
         "type": "scatter",
         "x": [
          "Men's Street Footwear",
          "Men's Athletic Footwear",
          "Women's Apparel",
          "Women's Street Footwear",
          "Women's Athletic Footwear",
          "Men's Apparel"
         ],
         "y": [
          0.23935186361800842,
          0.41504787884435634,
          0.5900584986411098,
          0.7483041606608841,
          0.8762806789085794,
          1
         ],
         "yaxis": "y2"
        }
       ],
       "layout": {
        "legend": {
         "x": 1,
         "y": 1.1
        },
        "template": {
         "data": {
          "pie": [
           {
            "automargin": true,
            "type": "pie"
           }
          ]
         },
         "layout": {
          "xaxis": {
           "showgrid": true,
           "title": {
            "standoff": 15
           }
          },
          "yaxis": {
           "showgrid": true,
           "title": {
            "standoff": 15
           }
          }
         }
        },
        "title": {
         "text": "Pareto: Product versus unit sold"
        },
        "xaxis": {
         "title": {
          "text": "State"
         }
        },
        "yaxis": {
         "showgrid": false,
         "title": {
          "text": "Total Sales"
         }
        },
        "yaxis2": {
         "overlaying": "y",
         "side": "right",
         "title": {
          "text": "Units Sold"
         }
        }
       }
      }
     },
     "metadata": {},
     "output_type": "display_data"
    }
   ],
   "source": [
    "pareto(df)"
   ]
  },
  {
   "cell_type": "markdown",
   "metadata": {},
   "source": [
    "### Viabilidade pareto"
   ]
  },
  {
   "cell_type": "code",
   "execution_count": 27,
   "metadata": {},
   "outputs": [],
   "source": [
    "# Análise de viabilidade de um diagrama de Pareto\n",
    "\n",
    "df_pareto = pd.DataFrame(df.groupby('Product')['Units Sold'].sum())"
   ]
  },
  {
   "cell_type": "code",
   "execution_count": 28,
   "metadata": {},
   "outputs": [],
   "source": [
    "df_pareto.reset_index(inplace = True)"
   ]
  },
  {
   "cell_type": "code",
   "execution_count": 29,
   "metadata": {},
   "outputs": [],
   "source": [
    "df_pareto['Cumulative Sales'] = df_pareto['Units Sold'].cumsum()"
   ]
  },
  {
   "cell_type": "code",
   "execution_count": 30,
   "metadata": {},
   "outputs": [],
   "source": [
    "df_pareto['Relative Cumulative Sales'] = df_pareto['Cumulative Sales']/(df_pareto['Units Sold'].sum())"
   ]
  },
  {
   "cell_type": "code",
   "execution_count": 31,
   "metadata": {},
   "outputs": [
    {
     "data": {
      "text/html": [
       "<div>\n",
       "<style scoped>\n",
       "    .dataframe tbody tr th:only-of-type {\n",
       "        vertical-align: middle;\n",
       "    }\n",
       "\n",
       "    .dataframe tbody tr th {\n",
       "        vertical-align: top;\n",
       "    }\n",
       "\n",
       "    .dataframe thead th {\n",
       "        text-align: right;\n",
       "    }\n",
       "</style>\n",
       "<table border=\"1\" class=\"dataframe\">\n",
       "  <thead>\n",
       "    <tr style=\"text-align: right;\">\n",
       "      <th></th>\n",
       "      <th>Product</th>\n",
       "      <th>Units Sold</th>\n",
       "      <th>Cumulative Sales</th>\n",
       "      <th>Relative Cumulative Sales</th>\n",
       "    </tr>\n",
       "  </thead>\n",
       "  <tbody>\n",
       "    <tr>\n",
       "      <th>0</th>\n",
       "      <td>Men's Apparel</td>\n",
       "      <td>306683</td>\n",
       "      <td>306683</td>\n",
       "      <td>0.123719</td>\n",
       "    </tr>\n",
       "    <tr>\n",
       "      <th>1</th>\n",
       "      <td>Men's Athletic Footwear</td>\n",
       "      <td>435526</td>\n",
       "      <td>742209</td>\n",
       "      <td>0.299415</td>\n",
       "    </tr>\n",
       "    <tr>\n",
       "      <th>2</th>\n",
       "      <td>Men's Street Footwear</td>\n",
       "      <td>593320</td>\n",
       "      <td>1335529</td>\n",
       "      <td>0.538767</td>\n",
       "    </tr>\n",
       "    <tr>\n",
       "      <th>3</th>\n",
       "      <td>Women's Apparel</td>\n",
       "      <td>433827</td>\n",
       "      <td>1769356</td>\n",
       "      <td>0.713778</td>\n",
       "    </tr>\n",
       "    <tr>\n",
       "      <th>4</th>\n",
       "      <td>Women's Athletic Footwear</td>\n",
       "      <td>317236</td>\n",
       "      <td>2086592</td>\n",
       "      <td>0.841754</td>\n",
       "    </tr>\n",
       "    <tr>\n",
       "      <th>5</th>\n",
       "      <td>Women's Street Footwear</td>\n",
       "      <td>392269</td>\n",
       "      <td>2478861</td>\n",
       "      <td>1.000000</td>\n",
       "    </tr>\n",
       "  </tbody>\n",
       "</table>\n",
       "</div>"
      ],
      "text/plain": [
       "                     Product  Units Sold  Cumulative Sales  \\\n",
       "0              Men's Apparel      306683            306683   \n",
       "1    Men's Athletic Footwear      435526            742209   \n",
       "2      Men's Street Footwear      593320           1335529   \n",
       "3            Women's Apparel      433827           1769356   \n",
       "4  Women's Athletic Footwear      317236           2086592   \n",
       "5    Women's Street Footwear      392269           2478861   \n",
       "\n",
       "   Relative Cumulative Sales  \n",
       "0                   0.123719  \n",
       "1                   0.299415  \n",
       "2                   0.538767  \n",
       "3                   0.713778  \n",
       "4                   0.841754  \n",
       "5                   1.000000  "
      ]
     },
     "execution_count": 31,
     "metadata": {},
     "output_type": "execute_result"
    }
   ],
   "source": [
    "df_pareto"
   ]
  },
  {
   "cell_type": "markdown",
   "metadata": {},
   "source": [
    "A constribuição dos diferentes produtos é similar sob a ótica do volume de vendas. Porém, para fins didáticos e de visualização dos dados, é viável a inserção do diagrama no dashboard"
   ]
  }
 ],
 "metadata": {
  "kernelspec": {
   "display_name": "base",
   "language": "python",
   "name": "python3"
  },
  "language_info": {
   "codemirror_mode": {
    "name": "ipython",
    "version": 3
   },
   "file_extension": ".py",
   "mimetype": "text/x-python",
   "name": "python",
   "nbconvert_exporter": "python",
   "pygments_lexer": "ipython3",
   "version": "3.11.4"
  }
 },
 "nbformat": 4,
 "nbformat_minor": 2
}
